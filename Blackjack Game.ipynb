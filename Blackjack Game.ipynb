{
 "cells": [
  {
   "cell_type": "code",
   "execution_count": 1,
   "id": "50c368a6-0219-467f-916f-a822757cfda0",
   "metadata": {},
   "outputs": [],
   "source": [
    "import random\n",
    "\n",
    "suits = ('Hearts', 'Diamonds', 'Spades', 'Clubs')\n",
    "ranks = ('Two', 'Three', 'Four', 'Five', 'Six', 'Seven', 'Eight', 'Nine', 'Ten', 'Jack', 'Queen', 'King', 'Ace')\n",
    "values = {'Two':2, 'Three':3, 'Four':4, 'Five':5, 'Six':6, 'Seven':7, 'Eight':8, 'Nine':9, 'Ten':10, 'Jack':10,\n",
    "         'Queen':10, 'King':10, 'Ace':11}\n",
    "\n",
    "playing = True"
   ]
  },
  {
   "cell_type": "code",
   "execution_count": 2,
   "id": "898c0eb8-4824-4945-827b-714be41214fd",
   "metadata": {},
   "outputs": [],
   "source": [
    "class Card():\n",
    "    \n",
    "    def __init__(self, suit, rank):\n",
    "        self.suit = suit\n",
    "        self.rank = rank\n",
    "    \n",
    "    def __str__(self):\n",
    "        return self.rank + \" of \" + self.suit"
   ]
  },
  {
   "cell_type": "code",
   "execution_count": 3,
   "id": "456c2b39-e97a-41e1-8b9a-b536a6175003",
   "metadata": {},
   "outputs": [],
   "source": [
    "class Deck:\n",
    "    \n",
    "    def __init__(self):\n",
    "        self.deck = []  # start with an empty list\n",
    "        for suit in suits:\n",
    "            for rank in ranks:\n",
    "                created_card = Card(suit, rank)\n",
    "                self.deck.append(created_card)\n",
    "    \n",
    "    def __str__(self):\n",
    "        deck_comp = ''\n",
    "        for card in self.deck:\n",
    "            deck_comp += '\\n' + card.__str__()\n",
    "        return \"The deck has: \" + deck_comp\n",
    "\n",
    "    def shuffle(self):\n",
    "        random.shuffle(self.deck)\n",
    "        \n",
    "    def deal(self):\n",
    "        single_card = self.deck.pop()\n",
    "        return single_card"
   ]
  },
  {
   "cell_type": "code",
   "execution_count": 4,
   "id": "d025d41c-dd80-40e8-a5ac-5a53a7912178",
   "metadata": {},
   "outputs": [
    {
     "name": "stdout",
     "output_type": "stream",
     "text": [
      "The deck has: \n",
      "Three of Diamonds\n",
      "Jack of Spades\n",
      "Ten of Hearts\n",
      "King of Spades\n",
      "Eight of Clubs\n",
      "Nine of Diamonds\n",
      "Queen of Clubs\n",
      "Six of Clubs\n",
      "Two of Spades\n",
      "Five of Hearts\n",
      "Jack of Diamonds\n",
      "Four of Spades\n",
      "Nine of Hearts\n",
      "Seven of Clubs\n",
      "Seven of Diamonds\n",
      "Six of Hearts\n",
      "Six of Diamonds\n",
      "Two of Hearts\n",
      "Jack of Clubs\n",
      "Three of Clubs\n",
      "Eight of Diamonds\n",
      "Jack of Hearts\n",
      "Four of Hearts\n",
      "Ace of Spades\n",
      "Ace of Hearts\n",
      "Nine of Spades\n",
      "King of Diamonds\n",
      "King of Hearts\n",
      "Five of Clubs\n",
      "Ten of Clubs\n",
      "Two of Clubs\n",
      "Four of Diamonds\n",
      "Ace of Diamonds\n",
      "King of Clubs\n",
      "Five of Spades\n",
      "Queen of Spades\n",
      "Three of Spades\n",
      "Six of Spades\n",
      "Eight of Hearts\n",
      "Eight of Spades\n",
      "Three of Hearts\n",
      "Ten of Diamonds\n",
      "Two of Diamonds\n",
      "Ace of Clubs\n",
      "Seven of Hearts\n",
      "Queen of Hearts\n",
      "Queen of Diamonds\n",
      "Four of Clubs\n",
      "Nine of Clubs\n",
      "Ten of Spades\n",
      "Five of Diamonds\n",
      "Seven of Spades\n"
     ]
    }
   ],
   "source": [
    "test_deck = Deck()\n",
    "test_deck.shuffle()\n",
    "print(test_deck)"
   ]
  },
  {
   "cell_type": "code",
   "execution_count": 5,
   "id": "889b8c1f-ae08-4db9-b728-c1ad6890fa65",
   "metadata": {},
   "outputs": [],
   "source": [
    "class Hand:\n",
    "    def __init__(self):\n",
    "        self.cards = []  # start with an empty list as we did in the Deck class\n",
    "        self.value = 0   # start with zero value\n",
    "        self.aces = 0    # add an attribute to keep track of aces\n",
    "    \n",
    "    def add_card(self,card):\n",
    "        #card passed in comes from Deck class Deck.deal()\n",
    "        self.cards.append(card)\n",
    "        self.value += values[card.rank]\n",
    "\n",
    "        #track Aces\n",
    "        if card.rank == 'Ace':\n",
    "            self.aces += 1\n",
    "    def adjust_for_ace(self):\n",
    "        # If total value > 21 and I still have an Ace\n",
    "        # Then cahnge my ace to be a 1 instead of 11\n",
    "        while self.value >= 21 and self.aces > 0:\n",
    "            self.value -= 10\n",
    "            self.aces -= 1"
   ]
  },
  {
   "cell_type": "code",
   "execution_count": 6,
   "id": "2f751632-8b34-4b75-99b6-d5cc5d274b55",
   "metadata": {},
   "outputs": [
    {
     "name": "stdout",
     "output_type": "stream",
     "text": [
      "Seven of Hearts\n",
      "7\n"
     ]
    }
   ],
   "source": [
    "test_deck = Deck()\n",
    "test_deck.shuffle()\n",
    "\n",
    "#Player\n",
    "test_player = Hand()\n",
    "pulled_card = test_deck.deal()\n",
    "print(pulled_card)\n",
    "test_player.add_card(pulled_card)\n",
    "print(test_player.value)"
   ]
  },
  {
   "cell_type": "code",
   "execution_count": 7,
   "id": "a68c83ab-e771-4ddc-a665-db33d5a92232",
   "metadata": {},
   "outputs": [],
   "source": [
    "test_player.add_card(test_deck.deal())"
   ]
  },
  {
   "cell_type": "code",
   "execution_count": 8,
   "id": "69bef2d2-2ca8-45bf-98c6-7b48cd1a3d04",
   "metadata": {},
   "outputs": [
    {
     "name": "stdout",
     "output_type": "stream",
     "text": [
      "Eight of Clubs\n",
      "8\n"
     ]
    }
   ],
   "source": [
    "test_deck = Deck()\n",
    "test_deck.shuffle()\n",
    "\n",
    "#Player\n",
    "test_player = Hand()\n",
    "pulled_card = test_deck.deal()\n",
    "print(pulled_card)\n",
    "test_player.add_card(pulled_card)\n",
    "print(test_player.value)"
   ]
  },
  {
   "cell_type": "code",
   "execution_count": 9,
   "id": "f3318d9a-e504-45fb-aea6-ab028e379e0c",
   "metadata": {},
   "outputs": [],
   "source": [
    "class Chips:\n",
    "    \n",
    "    def __init__(self, total = 100):\n",
    "        self.total = total  # This can be set to a default value or supplied by a user input\n",
    "        self.bet = 0\n",
    "        \n",
    "    def win_bet(self):\n",
    "        self.total += self.bet\n",
    "    \n",
    "    def lose_bet(self):\n",
    "        self.total -= self.bet"
   ]
  },
  {
   "cell_type": "code",
   "execution_count": 10,
   "id": "534e20fd-654f-4378-bfc5-2b1c071d83be",
   "metadata": {},
   "outputs": [],
   "source": [
    "def take_bet(chips):\n",
    "    \n",
    "    while True:\n",
    "\n",
    "        try:\n",
    "            chips.bet = int(input('how many chips would you like to bet?  '))\n",
    "        except:\n",
    "            print('Sorry please provide an integer')\n",
    "        else:\n",
    "            if chips.bet > chips.total:\n",
    "                print('Sorry, you do not have enough chips! You have: {}'.format(chips.total))\n",
    "            else:\n",
    "                break"
   ]
  },
  {
   "cell_type": "code",
   "execution_count": 11,
   "id": "dcebba26-9ef1-4776-a93f-71437771ae58",
   "metadata": {},
   "outputs": [],
   "source": [
    "def hit(deck,hand):\n",
    "\n",
    "    single_card = deck.deal()\n",
    "    hand.add_card(single_card)\n",
    "    hand.adjust_for_ace()"
   ]
  },
  {
   "cell_type": "code",
   "execution_count": 12,
   "id": "2c482fc3-7fc0-4cbf-9f40-61123badb7b8",
   "metadata": {},
   "outputs": [],
   "source": [
    "def hit_or_stand(deck,hand):\n",
    "    global playing  # to control an upcoming while loop\n",
    "    \n",
    "    while True:\n",
    "        x = input('Hit or stand? Enter h or s ')\n",
    "\n",
    "        if x[0].lower() == 'h':\n",
    "            hit(deck,hand)\n",
    "        elif x[0].lower() == 's':\n",
    "            print('player stands, dealers turn')\n",
    "            playing = False\n",
    "        else:\n",
    "            print('Sorry I did not understand , please enter h or s only')\n",
    "            continue\n",
    "\n",
    "        break"
   ]
  },
  {
   "cell_type": "code",
   "execution_count": 13,
   "id": "a67f33f1-ab60-4fab-996a-cfa04c6a0a32",
   "metadata": {},
   "outputs": [],
   "source": [
    "def show_some(player,dealer):\n",
    "    \n",
    "    #show only one of the dealer's cards\n",
    "    print(\" \\n Dealer's Hand: \")\n",
    "    print(\"First card hidden!\")\n",
    "    print(dealer.cards[1])\n",
    "\n",
    "    #show all (2 cards) of the player's hand/cards\n",
    "    print(\" \\n Player's hands:\")\n",
    "    for card in player.cards:\n",
    "        print(card)\n",
    "        \n",
    "def show_all(player,dealer):\n",
    "    # show all the dealer's cards\n",
    "    print(\" \\n Dealer's hands:\")\n",
    "    for card in dealer.cards:\n",
    "        print(card)\n",
    "    \n",
    "    # calculate and display value\n",
    "    print(f\"Value of Dealer's hand is: {dealer.value}\")\n",
    "    \n",
    "    # show all the players cards\n",
    "    print(\" \\n Player's hands:\")\n",
    "    for card in player.cards:\n",
    "        print(card)\n",
    "\n",
    "    print(f\"Value of Player's hand is: {player.value}\")"
   ]
  },
  {
   "cell_type": "code",
   "execution_count": 14,
   "id": "3b8f4c4d-597c-4c68-9115-89babe5fd61a",
   "metadata": {},
   "outputs": [],
   "source": [
    "def player_busts(player,dealer,chips):\n",
    "    print(\"Bust Player!\")\n",
    "    chips.lose_bet()\n",
    "\n",
    "def player_wins(player,dealer,chips):\n",
    "    print(\"Player Win!\")\n",
    "    chips.win_bet()\n",
    "\n",
    "def dealer_busts(player,dealer,chips):\n",
    "    print(\"Player wins! Dealer Busted!\")\n",
    "    chips.win_bet()\n",
    "    \n",
    "def dealer_wins(player,dealer,chips):\n",
    "    print(\"Dealer wins!\")\n",
    "    chips.lose_bet()\n",
    "    \n",
    "def push(player,dealer):\n",
    "    print('Dealer and player tie! Push')"
   ]
  },
  {
   "cell_type": "code",
   "execution_count": null,
   "id": "04b3a7b3-f4e8-4ff3-8681-d8a3d6d52c34",
   "metadata": {},
   "outputs": [
    {
     "name": "stdout",
     "output_type": "stream",
     "text": [
      "WELCOME TO BLACKJACK\n"
     ]
    },
    {
     "name": "stdin",
     "output_type": "stream",
     "text": [
      "how many chips would you like to bet?   50\n"
     ]
    },
    {
     "name": "stdout",
     "output_type": "stream",
     "text": [
      " \n",
      " Dealer's Hand: \n",
      "First card hidden!\n",
      "Three of Hearts\n",
      " \n",
      " Player's hands:\n",
      "Three of Spades\n",
      "Ten of Hearts\n",
      " \n",
      " Dealer's hands:\n",
      "Jack of Hearts\n",
      "Three of Hearts\n",
      "Value of Dealer's hand is: 13\n",
      " \n",
      " Player's hands:\n",
      "Three of Spades\n",
      "Ten of Hearts\n",
      "Value of Player's hand is: 13\n",
      "Dealer and player tie! Push\n",
      "\n",
      " Player total chips are at: 100\n"
     ]
    },
    {
     "name": "stdin",
     "output_type": "stream",
     "text": [
      "Would you like to play another hand? y/n y\n"
     ]
    },
    {
     "name": "stdout",
     "output_type": "stream",
     "text": [
      "WELCOME TO BLACKJACK\n"
     ]
    },
    {
     "name": "stdin",
     "output_type": "stream",
     "text": [
      "how many chips would you like to bet?   50\n"
     ]
    },
    {
     "name": "stdout",
     "output_type": "stream",
     "text": [
      " \n",
      " Dealer's Hand: \n",
      "First card hidden!\n",
      "Eight of Diamonds\n",
      " \n",
      " Player's hands:\n",
      "Six of Clubs\n",
      "King of Hearts\n"
     ]
    },
    {
     "name": "stdin",
     "output_type": "stream",
     "text": [
      "Hit or stand? Enter h or s  s\n"
     ]
    },
    {
     "name": "stdout",
     "output_type": "stream",
     "text": [
      "player stands, dealers turn\n",
      " \n",
      " Dealer's Hand: \n",
      "First card hidden!\n",
      "Eight of Diamonds\n",
      " \n",
      " Player's hands:\n",
      "Six of Clubs\n",
      "King of Hearts\n",
      " \n",
      " Dealer's hands:\n",
      "Two of Diamonds\n",
      "Eight of Diamonds\n",
      "Queen of Hearts\n",
      "Value of Dealer's hand is: 20\n",
      " \n",
      " Player's hands:\n",
      "Six of Clubs\n",
      "King of Hearts\n",
      "Value of Player's hand is: 16\n",
      "Dealer wins!\n",
      "\n",
      " Player total chips are at: 50\n"
     ]
    },
    {
     "name": "stdin",
     "output_type": "stream",
     "text": [
      "Would you like to play another hand? y/n y\n"
     ]
    },
    {
     "name": "stdout",
     "output_type": "stream",
     "text": [
      "WELCOME TO BLACKJACK\n"
     ]
    },
    {
     "name": "stdin",
     "output_type": "stream",
     "text": [
      "how many chips would you like to bet?   50\n"
     ]
    },
    {
     "name": "stdout",
     "output_type": "stream",
     "text": [
      " \n",
      " Dealer's Hand: \n",
      "First card hidden!\n",
      "Five of Hearts\n",
      " \n",
      " Player's hands:\n",
      "Jack of Diamonds\n",
      "Seven of Spades\n"
     ]
    },
    {
     "name": "stdin",
     "output_type": "stream",
     "text": [
      "Hit or stand? Enter h or s  s\n"
     ]
    },
    {
     "name": "stdout",
     "output_type": "stream",
     "text": [
      "player stands, dealers turn\n",
      " \n",
      " Dealer's Hand: \n",
      "First card hidden!\n",
      "Five of Hearts\n",
      " \n",
      " Player's hands:\n",
      "Jack of Diamonds\n",
      "Seven of Spades\n",
      " \n",
      " Dealer's hands:\n",
      "Nine of Spades\n",
      "Five of Hearts\n",
      "Eight of Spades\n",
      "Value of Dealer's hand is: 22\n",
      " \n",
      " Player's hands:\n",
      "Jack of Diamonds\n",
      "Seven of Spades\n",
      "Value of Player's hand is: 17\n",
      "Player wins! Dealer Busted!\n",
      "\n",
      " Player total chips are at: 150\n"
     ]
    },
    {
     "name": "stdin",
     "output_type": "stream",
     "text": [
      "Would you like to play another hand? y/n y\n"
     ]
    },
    {
     "name": "stdout",
     "output_type": "stream",
     "text": [
      "WELCOME TO BLACKJACK\n"
     ]
    },
    {
     "name": "stdin",
     "output_type": "stream",
     "text": [
      "how many chips would you like to bet?   50\n"
     ]
    },
    {
     "name": "stdout",
     "output_type": "stream",
     "text": [
      " \n",
      " Dealer's Hand: \n",
      "First card hidden!\n",
      "King of Hearts\n",
      " \n",
      " Player's hands:\n",
      "Ace of Spades\n",
      "Ace of Diamonds\n"
     ]
    },
    {
     "name": "stdin",
     "output_type": "stream",
     "text": [
      "Hit or stand? Enter h or s  s\n"
     ]
    },
    {
     "name": "stdout",
     "output_type": "stream",
     "text": [
      "player stands, dealers turn\n",
      " \n",
      " Dealer's Hand: \n",
      "First card hidden!\n",
      "King of Hearts\n",
      " \n",
      " Player's hands:\n",
      "Ace of Spades\n",
      "Ace of Diamonds\n",
      "Bust Player!\n",
      "\n",
      " Player total chips are at: 50\n"
     ]
    }
   ],
   "source": [
    "while True:\n",
    "    # Print an opening statement\n",
    "    print(\"WELCOME TO BLACKJACK\")\n",
    "    \n",
    "    \n",
    "    # Create & shuffle the deck, deal two cards to each player\n",
    "    deck = Deck()\n",
    "    deck.shuffle()\n",
    "\n",
    "    player_hand = Hand()\n",
    "    player_hand.add_card(deck.deal())\n",
    "    player_hand.add_card(deck.deal())\n",
    "\n",
    "    dealer_hand = Hand()\n",
    "    dealer_hand.add_card(deck.deal())\n",
    "    dealer_hand.add_card(deck.deal())\n",
    "    \n",
    "    \n",
    "    \n",
    "        \n",
    "    # Set up the Player's chips\n",
    "    player_chips = Chips()\n",
    "    \n",
    "    # Prompt the Player for their bet\n",
    "    take_bet(player_chips)\n",
    "    \n",
    "    # Show cards (but keep one dealer card hidden)\n",
    "    show_some(player_hand, dealer_hand)\n",
    "    \n",
    "    \n",
    "    while playing:  # recall this variable from our hit_or_stand function\n",
    "\n",
    "        \n",
    "        \n",
    "        # Prompt for Player to Hit or Stand\n",
    "        hit_or_stand(deck,player_hand)\n",
    "        \n",
    "        # Show cards (but keep one dealer card hidden)\n",
    " \n",
    "        show_some(player_hand,dealer_hand)\n",
    "        \n",
    "        # If player's hand exceeds 21, run player_busts() and break out of loop\n",
    "        if player_hand.value > 21:\n",
    "            player_busts(player_hand,dealer_hand,player_chips)\n",
    "            \n",
    "\n",
    "            break\n",
    "\n",
    "    # If Player hasn't busted, play Dealer's hand until Dealer reaches 17\n",
    "    if player_hand.value <= 21:\n",
    "        while dealer_hand.value < player_hand.value:\n",
    "            hit(deck,dealer_hand)\n",
    "                \n",
    "    \n",
    "        # Show all cards\n",
    "        show_all(player_hand, dealer_hand)\n",
    "        \n",
    "        # Run different winning scenarios\n",
    "        if dealer_hand.value > 21:\n",
    "            dealer_busts(player_hand,dealer_hand,player_chips)\n",
    "        elif dealer_hand.value > player_hand.value:\n",
    "            dealer_wins(player_hand,dealer_hand,player_chips)\n",
    "        elif dealer_hand.value < player_hand.value:\n",
    "            player_wins(player_hand,dealer_hand,player_chips)\n",
    "        else:\n",
    "            push(player_hand,dealer_hand)\n",
    "        \n",
    "    # Inform Player of their chips total \n",
    "    print(\"\\n Player total chips are at: {}\".format(player_chips.total))\n",
    "    # Ask to play again\n",
    "    new_game = input(\"Would you like to play another hand? y/n\")\n",
    "\n",
    "    if new_game[0].lower() == 'y':\n",
    "        playing = True\n",
    "        continue\n",
    "    else:\n",
    "        print(\"Thank you for playing!\")\n",
    "        \n",
    "\n",
    "        break"
   ]
  },
  {
   "cell_type": "code",
   "execution_count": null,
   "id": "ca0ce0b9-667a-4869-8a55-093124e67b24",
   "metadata": {},
   "outputs": [],
   "source": []
  }
 ],
 "metadata": {
  "kernelspec": {
   "display_name": "Python 3 (ipykernel)",
   "language": "python",
   "name": "python3"
  },
  "language_info": {
   "codemirror_mode": {
    "name": "ipython",
    "version": 3
   },
   "file_extension": ".py",
   "mimetype": "text/x-python",
   "name": "python",
   "nbconvert_exporter": "python",
   "pygments_lexer": "ipython3",
   "version": "3.11.5"
  }
 },
 "nbformat": 4,
 "nbformat_minor": 5
}
